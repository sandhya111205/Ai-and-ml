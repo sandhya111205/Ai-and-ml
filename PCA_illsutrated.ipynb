{
  "cells": [
    {
      "cell_type": "markdown",
      "metadata": {
        "id": "view-in-github",
        "colab_type": "text"
      },
      "source": [
        "<a href=\"https://colab.research.google.com/github/sandhya111205/Ai-and-ml/blob/main/PCA_illsutrated.ipynb\" target=\"_parent\"><img src=\"https://colab.research.google.com/assets/colab-badge.svg\" alt=\"Open In Colab\"/></a>"
      ]
    },
    {
      "cell_type": "code",
      "execution_count": null,
      "id": "e39c342f",
      "metadata": {
        "colab": {
          "base_uri": "https://localhost:8080/"
        },
        "id": "e39c342f",
        "outputId": "5d530aad-aa90-4126-a6e8-4f11a5759873"
      },
      "outputs": [
        {
          "output_type": "stream",
          "name": "stdout",
          "text": [
            "Formatted Array:\n",
            "[[0.0504 0.9727 0.3745]\n",
            " [0.8358 0.4383 0.4423]\n",
            " [0.7448 0.2659 0.6187]\n",
            " [0.5624 0.4764 0.7749]\n",
            " [0.6904 0.9452 0.9254]\n",
            " [0.1041 0.4862 0.7425]\n",
            " [0.9317 0.6863 0.2595]\n",
            " [0.7643 0.3784 0.963 ]\n",
            " [0.9781 0.7379 0.0317]\n",
            " [0.3949 0.2847 0.3736]\n",
            " [0.565  0.5813 0.3158]\n",
            " [0.9857 0.5463 0.8217]\n",
            " [0.05   0.5393 0.5883]\n",
            " [0.7179 0.0957 0.5858]\n",
            " [0.9162 0.3127 0.415 ]\n",
            " [0.6208 0.4912 0.3491]\n",
            " [0.4184 0.3045 0.4783]\n",
            " [0.7691 0.508  0.4439]\n",
            " [0.3046 0.0484 0.2715]\n",
            " [0.2926 0.81   0.1326]\n",
            " [0.828  0.2111 0.7397]\n",
            " [0.5525 0.2385 0.6173]\n",
            " [0.5408 0.7634 0.5358]\n",
            " [0.6746 0.5746 0.0625]\n",
            " [0.0863 0.0655 0.7325]\n",
            " [0.9464 0.1721 0.9461]\n",
            " [0.1693 0.5225 0.9845]\n",
            " [0.3395 0.4304 0.8791]\n",
            " [0.2322 0.5767 0.1672]\n",
            " [0.7101 0.1904 0.6684]\n",
            " [0.4967 0.1113 0.3222]\n",
            " [0.1775 0.3824 0.8851]\n",
            " [0.7092 0.9549 0.3941]\n",
            " [0.5346 0.3895 0.9798]\n",
            " [0.5883 0.5008 0.3498]\n",
            " [0.15   0.9195 0.969 ]\n",
            " [0.9836 0.0959 0.1505]\n",
            " [0.2048 0.5034 0.2567]\n",
            " [0.3268 0.2132 0.1814]\n",
            " [0.8414 0.6265 0.9148]\n",
            " [0.065  0.7503 0.861 ]\n",
            " [0.0464 0.2734 0.3446]\n",
            " [0.4766 0.2689 0.3696]\n",
            " [0.9731 0.2143 0.628 ]\n",
            " [0.1106 0.8616 0.3599]\n",
            " [0.2584 0.9719 0.8443]\n",
            " [0.7549 0.0049 0.7418]\n",
            " [0.2728 0.7448 0.5771]\n",
            " [0.1479 0.2904 0.9291]\n",
            " [0.2189 0.6615 0.2154]\n",
            " [0.1048 0.1776 0.574 ]\n",
            " [0.6209 0.5684 0.0701]\n",
            " [0.0691 0.4054 0.3203]\n",
            " [0.5467 0.1319 0.2135]\n",
            " [0.975  0.6856 0.7052]\n",
            " [0.3332 0.8726 0.6607]\n",
            " [0.7113 0.3326 0.7992]\n",
            " [0.7244 0.5631 0.5322]\n",
            " [0.7437 0.3967 0.166 ]\n",
            " [0.463  0.1716 0.6583]\n",
            " [0.2161 0.9753 0.4472]\n",
            " [0.8093 0.4831 0.1594]\n",
            " [0.2466 0.7079 0.3619]\n",
            " [0.1731 0.9328 0.9479]\n",
            " [0.9613 0.5357 0.4286]\n",
            " [0.4042 0.5968 0.4902]\n",
            " [0.1783 0.5207 0.4303]\n",
            " [0.6714 0.0382 0.9509]\n",
            " [0.6124 0.7528 0.9682]\n",
            " [0.9752 0.7755 0.2584]\n",
            " [0.7338 0.5283 0.3152]\n",
            " [0.8037 0.4589 0.411 ]\n",
            " [0.3458 0.9187 0.3813]\n",
            " [0.5109 0.0072 0.2006]\n",
            " [0.779  0.7952 0.1592]\n",
            " [0.8991 0.3215 0.0091]\n",
            " [0.6884 0.3551 0.2428]\n",
            " [0.3871 0.9341 0.2557]\n",
            " [0.5742 0.0951 0.8182]\n",
            " [0.7908 0.0596 0.3044]\n",
            " [0.5308 0.1255 0.0529]\n",
            " [0.8383 0.2506 0.3443]\n",
            " [0.3047 0.6407 0.2372]\n",
            " [0.8013 0.7451 0.0545]\n",
            " [0.3115 0.9429 0.2733]\n",
            " [0.1892 0.9715 0.7067]\n",
            " [0.0439 0.6069 0.1336]\n",
            " [0.1947 0.7509 0.8933]\n",
            " [0.7411 0.3289 0.8105]\n",
            " [0.9763 0.3687 0.7699]\n",
            " [0.8917 0.3387 0.8284]\n",
            " [0.6633 0.3823 0.0064]\n",
            " [0.7242 0.1323 0.6154]\n",
            " [0.3528 0.281  0.5418]\n",
            " [0.2856 0.9705 0.4462]\n",
            " [0.9444 0.3048 0.2514]\n",
            " [0.9143 0.5579 0.6143]\n",
            " [0.544  0.727  0.8767]\n",
            " [0.9373 0.4466 0.17  ]\n",
            " [0.2781 0.1195 0.5311]]\n"
          ]
        }
      ],
      "source": [
        "import numpy as np\n",
        "import matplotlib.pyplot as plt\n",
        "\n",
        "# Step 1: Create some sample data (replace this with your dataset)\n",
        "data = np.random.rand(100, 3)  # 100 samples with 3 features\n",
        "np.set_printoptions(precision=4, suppress=True)\n",
        "print(\"Formatted Array:\")\n",
        "print(data)"
      ]
    },
    {
      "cell_type": "code",
      "source": [],
      "metadata": {
        "id": "Dl6YACetGvbv"
      },
      "id": "Dl6YACetGvbv",
      "execution_count": null,
      "outputs": []
    },
    {
      "cell_type": "code",
      "execution_count": null,
      "id": "43176e07",
      "metadata": {
        "colab": {
          "base_uri": "https://localhost:8080/"
        },
        "id": "43176e07",
        "outputId": "5e7ac867-a03a-4c65-abda-a70ee0b762e1"
      },
      "outputs": [
        {
          "output_type": "stream",
          "name": "stdout",
          "text": [
            "[0.5363 0.4848 0.4991] [0.2926 0.2757 0.2824]\n",
            "[[-1.661   1.7699 -0.4412]\n",
            " [ 1.0234 -0.1687 -0.2011]\n",
            " [ 0.7126 -0.7941  0.4233]\n",
            " [ 0.089  -0.0307  0.9764]\n",
            " [ 0.5264  1.6701  1.5093]\n",
            " [-1.4774  0.0051  0.8617]\n",
            " [ 1.3512  0.7307 -0.8485]\n",
            " [ 0.7793 -0.386   1.6424]\n",
            " [ 1.51    0.9179 -1.6551]\n",
            " [-0.4835 -0.7262 -0.4444]\n",
            " [ 0.0979  0.3499 -0.6492]\n",
            " [ 1.536   0.223   1.1423]\n",
            " [-1.6623  0.1977  0.3157]\n",
            " [ 0.6204 -1.4118  0.307 ]\n",
            " [ 1.2984 -0.6245 -0.2979]\n",
            " [ 0.2886  0.0232 -0.5312]\n",
            " [-0.4031 -0.6542 -0.0739]\n",
            " [ 0.7955  0.0839 -0.1957]\n",
            " [-0.7922 -1.5835 -0.8059]\n",
            " [-0.8332  1.1797 -1.2978]\n",
            " [ 0.9967 -0.9931  0.8519]\n",
            " [ 0.0553 -0.8937  0.4185]\n",
            " [ 0.0152  1.0106  0.1297]\n",
            " [ 0.4725  0.3256 -1.5461]\n",
            " [-1.5384 -1.5214  0.8263]\n",
            " [ 1.4015 -1.1344  1.5826]\n",
            " [-1.2547  0.1365  1.7186]\n",
            " [-0.6727 -0.1974  1.3452]\n",
            " [-1.0395  0.3333 -1.1753]\n",
            " [ 0.5938 -1.0682  0.5995]\n",
            " [-0.1355 -1.355  -0.6266]\n",
            " [-1.2264 -0.3715  1.3667]\n",
            " [ 0.5908  1.7051 -0.372 ]\n",
            " [-0.0059 -0.3459  1.702 ]\n",
            " [ 0.1776  0.0579 -0.5288]\n",
            " [-1.3204  1.577   1.6638]\n",
            " [ 1.5288 -1.4108 -1.2345]\n",
            " [-1.1333  0.0671 -0.8584]\n",
            " [-0.7164 -0.9853 -1.1251]\n",
            " [ 1.0428  0.514   1.4719]\n",
            " [-1.6109  0.9629  1.2815]\n",
            " [-1.6745 -0.7671 -0.5471]\n",
            " [-0.2041 -0.7833 -0.4587]\n",
            " [ 1.4928 -0.9816  0.4563]\n",
            " [-1.455   1.3666 -0.4931]\n",
            " [-0.95    1.7668  1.2221]\n",
            " [ 0.7471 -1.7412  0.8594]\n",
            " [-0.9008  0.943   0.2762]\n",
            " [-1.3275 -0.7052  1.5225]\n",
            " [-1.085   0.6407 -1.0046]\n",
            " [-1.4748 -1.1147  0.265 ]\n",
            " [ 0.2891  0.3032 -1.5191]\n",
            " [-1.5969 -0.2883 -0.6333]\n",
            " [ 0.0355 -1.2803 -1.0116]\n",
            " [ 1.4992  0.7284  0.7297]\n",
            " [-0.6944  1.4066  0.572 ]\n",
            " [ 0.5979 -0.5522  1.0624]\n",
            " [ 0.6428  0.2839  0.117 ]\n",
            " [ 0.7087 -0.3199 -1.1796]\n",
            " [-0.2508 -1.1364  0.5637]\n",
            " [-1.0944  1.7792 -0.1837]\n",
            " [ 0.9328 -0.0064 -1.2029]\n",
            " [-0.9905  0.8091 -0.4859]\n",
            " [-1.2416  1.6251  1.5889]\n",
            " [ 1.4526  0.1845 -0.2499]\n",
            " [-0.4518  0.406  -0.0315]\n",
            " [-1.2236  0.1302 -0.2436]\n",
            " [ 0.4614 -1.6201  1.5998]\n",
            " [ 0.2599  0.9722  1.661 ]\n",
            " [ 1.5     1.0545 -0.8523]\n",
            " [ 0.675   0.1575 -0.6514]\n",
            " [ 0.9138 -0.0939 -0.3122]\n",
            " [-0.6513  1.574  -0.4172]\n",
            " [-0.0871 -1.7328 -1.0571]\n",
            " [ 0.8292  1.1259 -1.2037]\n",
            " [ 1.2398 -0.5924 -1.7353]\n",
            " [ 0.5196 -0.4708 -0.9077]\n",
            " [-0.5102  1.6298 -0.8621]\n",
            " [ 0.1293 -1.414   1.1298]\n",
            " [ 0.8696 -1.5428 -0.6894]\n",
            " [-0.0191 -1.3035 -1.5801]\n",
            " [ 1.032  -0.8498 -0.5483]\n",
            " [-0.7918  0.5653 -0.9275]\n",
            " [ 0.9054  0.944  -1.5744]\n",
            " [-0.7684  1.6619 -0.7995]\n",
            " [-1.1864  1.7655  0.7349]\n",
            " [-1.683   0.4428 -1.2944]\n",
            " [-1.1677  0.9652  1.3956]\n",
            " [ 0.6999 -0.5658  1.1026]\n",
            " [ 1.5036 -0.4213  0.9588]\n",
            " [ 1.2145 -0.53    1.1659]\n",
            " [ 0.4337 -0.372  -1.7448]\n",
            " [ 0.6422 -1.279   0.4117]\n",
            " [-0.6272 -0.7395  0.1511]\n",
            " [-0.8572  1.7616 -0.1875]\n",
            " [ 1.3947 -0.6533 -0.8773]\n",
            " [ 1.2919  0.2649  0.4079]\n",
            " [ 0.0262  0.8786  1.337 ]\n",
            " [ 1.3704 -0.1388 -1.1653]\n",
            " [-0.8827 -1.3253  0.1133]]\n"
          ]
        }
      ],
      "source": [
        "# Step 2: Standardize the data\n",
        "mean = np.mean(data, axis=0)\n",
        "std_dev = np.std(data, axis=0)\n",
        "standardized_data = (data - mean) / std_dev\n",
        "print (mean, std_dev)\n",
        "print(standardized_data)"
      ]
    },
    {
      "cell_type": "code",
      "execution_count": null,
      "id": "ea61f21c",
      "metadata": {
        "colab": {
          "base_uri": "https://localhost:8080/"
        },
        "id": "ea61f21c",
        "outputId": "b44e8fc3-e9fe-4afa-d603-28f015eba50e"
      },
      "outputs": [
        {
          "output_type": "stream",
          "name": "stdout",
          "text": [
            "9 (3, 3)\n",
            "[[ 1.0101 -0.2517 -0.0992]\n",
            " [-0.2517  1.0101 -0.0022]\n",
            " [-0.0992 -0.0022  1.0101]]\n"
          ]
        }
      ],
      "source": [
        "# Step 3: Compute the covariance matrix\n",
        "covariance_matrix = np.cov(standardized_data, rowvar=False)\n",
        "size_cc = covariance_matrix.size\n",
        "shape_cc = covariance_matrix.shape\n",
        "print (size_cc, shape_cc)\n",
        "print(covariance_matrix)"
      ]
    },
    {
      "cell_type": "code",
      "execution_count": null,
      "id": "c7506e44",
      "metadata": {
        "colab": {
          "base_uri": "https://localhost:8080/"
        },
        "id": "c7506e44",
        "outputId": "1bcc65b2-1079-45a4-a99b-5d6735880540"
      },
      "outputs": [
        {
          "output_type": "stream",
          "name": "stdout",
          "text": [
            "[0.7388 1.0116 1.2799]\n",
            "[[ 0.7061 -0.0058  0.7081]\n",
            " [ 0.6572 -0.3666 -0.6585]\n",
            " [ 0.2635  0.9303 -0.2551]]\n"
          ]
        }
      ],
      "source": [
        "# Step 4: Compute the eigenvalues and eigenvectors of the covariance matrix\n",
        "eigenvalues, eigenvectors = np.linalg.eigh(covariance_matrix)\n",
        "print(eigenvalues)\n",
        "print(eigenvectors)"
      ]
    },
    {
      "cell_type": "code",
      "execution_count": null,
      "id": "6de0189c",
      "metadata": {
        "colab": {
          "base_uri": "https://localhost:8080/"
        },
        "id": "6de0189c",
        "outputId": "c84e1523-7b0f-4d38-d165-c96f3d1c937b"
      },
      "outputs": [
        {
          "output_type": "stream",
          "name": "stdout",
          "text": [
            "[1.2799 1.0116 0.7388]\n",
            "[[ 0.7081 -0.0058  0.7061]\n",
            " [-0.6585 -0.3666  0.6572]\n",
            " [-0.2551  0.9303  0.2635]]\n"
          ]
        }
      ],
      "source": [
        "# Step 5: Sort eigenvalues and corresponding eigenvectors in descending order\n",
        "sorted_indices = np.argsort(eigenvalues)[::-1]\n",
        "eigenvalues = eigenvalues[sorted_indices]\n",
        "eigenvectors = eigenvectors[:, sorted_indices]\n",
        "print(eigenvalues)\n",
        "print(eigenvectors)"
      ]
    },
    {
      "cell_type": "code",
      "execution_count": null,
      "id": "4146c356",
      "metadata": {
        "id": "4146c356"
      },
      "outputs": [],
      "source": [
        "# Step 6: Choose the number of components (or a threshold for explained variance)\n",
        "n_components = 2  # Choose the number of principal components\n"
      ]
    },
    {
      "cell_type": "code",
      "execution_count": null,
      "id": "917bca3e",
      "metadata": {
        "id": "917bca3e"
      },
      "outputs": [],
      "source": [
        "# Step 7: Select the top 'n_components' eigenvectors\n",
        "selected_eigenvectors = eigenvectors[:, :n_components]\n",
        "\n"
      ]
    },
    {
      "cell_type": "code",
      "execution_count": null,
      "id": "6eece490",
      "metadata": {
        "id": "6eece490"
      },
      "outputs": [],
      "source": [
        "# Step 8: Project the data onto the selected eigenvectors to obtain the principal components\n",
        "final_result = np.dot(standardized_data, selected_eigenvectors)\n",
        "\n"
      ]
    },
    {
      "cell_type": "code",
      "execution_count": null,
      "id": "22c16666",
      "metadata": {
        "colab": {
          "base_uri": "https://localhost:8080/"
        },
        "id": "22c16666",
        "outputId": "3cb7fddf-1c90-428e-a0bb-896b6c4b4fae"
      },
      "outputs": [
        {
          "output_type": "stream",
          "name": "stdout",
          "text": [
            "Final Result after PCA:\n",
            "[[-2.229  -1.0497]\n",
            " [ 0.887  -0.1312]\n",
            " [ 0.9195  0.6808]\n",
            " [-0.1658  0.9191]\n",
            " [-1.1119  0.7888]\n",
            " [-1.2693  0.8085]\n",
            " [ 0.692  -1.0652]\n",
            " [ 0.387   1.6649]\n",
            " [ 0.8869 -1.8852]\n",
            " [ 0.2492 -0.1444]\n",
            " [ 0.0045 -0.7328]\n",
            " [ 0.6494  0.972 ]\n",
            " [-1.3877  0.2309]\n",
            " [ 1.2907  0.7996]\n",
            " [ 1.4066 -0.0558]\n",
            " [ 0.3246 -0.5044]\n",
            " [ 0.1643  0.1734]\n",
            " [ 0.5579 -0.2175]\n",
            " [ 0.6873 -0.1646]\n",
            " [-1.0358 -1.635 ]\n",
            " [ 1.1424  1.1509]\n",
            " [ 0.5209  0.7167]\n",
            " [-0.6878 -0.2499]\n",
            " [ 0.5145 -1.5606]\n",
            " [-0.2982  1.3355]\n",
            " [ 1.3356  1.8801]\n",
            " [-1.4166  1.5561]\n",
            " [-0.6894  1.3279]\n",
            " [-0.6557 -1.2095]\n",
            " [ 0.9709  0.9459]\n",
            " [ 0.9561 -0.0853]\n",
            " [-0.9723  1.4149]\n",
            " [-0.6096 -0.9747]\n",
            " [-0.2105  1.7103]\n",
            " [ 0.2225 -0.5143]\n",
            " [-2.3977  0.9774]\n",
            " [ 2.3264 -0.6402]\n",
            " [-0.6277 -0.8166]\n",
            " [ 0.4286 -0.6813]\n",
            " [ 0.0245  1.1748]\n",
            " [-2.1015  0.8486]\n",
            " [-0.5409 -0.2179]\n",
            " [ 0.4882 -0.1384]\n",
            " [ 1.587   0.7757]\n",
            " [-1.8044 -0.9513]\n",
            " [-2.1477  0.4947]\n",
            " [ 1.4564  1.4335]\n",
            " [-1.3292 -0.0835]\n",
            " [-0.8639  1.6828]\n",
            " [-0.9339 -1.1632]\n",
            " [-0.3778  0.6639]\n",
            " [ 0.3925 -1.5261]\n",
            " [-0.7794 -0.4741]\n",
            " [ 1.1262 -0.4719]\n",
            " [ 0.3958  0.403 ]\n",
            " [-1.5638  0.0205]\n",
            " [ 0.516   1.1874]\n",
            " [ 0.2383  0.001 ]\n",
            " [ 1.0133 -0.9843]\n",
            " [ 0.4269  0.9425]\n",
            " [-1.8997 -0.8169]\n",
            " [ 0.9715 -1.1222]\n",
            " [-1.1102 -0.7429]\n",
            " [-2.3545  0.8896]\n",
            " [ 0.9707 -0.3087]\n",
            " [-0.5792 -0.1756]\n",
            " [-0.89   -0.2672]\n",
            " [ 0.9855  2.0797]\n",
            " [-0.8798  1.1873]\n",
            " [ 0.5851 -1.1883]\n",
            " [ 0.5404 -0.6677]\n",
            " [ 0.7885 -0.2613]\n",
            " [-1.3912 -0.9614]\n",
            " [ 1.3489 -0.3477]\n",
            " [ 0.1527 -1.5375]\n",
            " [ 1.7105 -1.4044]\n",
            " [ 0.9094 -0.6749]\n",
            " [-1.2146 -1.3966]\n",
            " [ 0.7345  1.5688]\n",
            " [ 1.8075 -0.0809]\n",
            " [ 1.2479 -0.992 ]\n",
            " [ 1.4301 -0.2046]\n",
            " [-0.6963 -1.0655]\n",
            " [ 0.4211 -1.8161]\n",
            " [-1.4345 -1.3486]\n",
            " [-2.1901  0.0433]\n",
            " [-1.1531 -1.3568]\n",
            " [-1.8184  0.9513]\n",
            " [ 0.5869  1.2292]\n",
            " [ 1.0975  1.0377]\n",
            " [ 0.9116  1.2719]\n",
            " [ 0.9971 -1.4894]\n",
            " [ 1.1919  0.8482]\n",
            " [ 0.0043  0.4153]\n",
            " [-1.7191 -0.8153]\n",
            " [ 1.6414 -0.5848]\n",
            " [ 0.6363  0.2748]\n",
            " [-0.901   0.9216]\n",
            " [ 1.359  -1.0413]\n",
            " [ 0.2188  0.5965]]\n"
          ]
        }
      ],
      "source": [
        "# Step 9: Print the final result\n",
        "print(\"Final Result after PCA:\")\n",
        "print(final_result)\n",
        "\n"
      ]
    },
    {
      "cell_type": "code",
      "execution_count": null,
      "id": "e9e323cc",
      "metadata": {
        "colab": {
          "base_uri": "https://localhost:8080/",
          "height": 472
        },
        "id": "e9e323cc",
        "outputId": "15de22d9-3667-43ba-cef9-0ccea771c2d7"
      },
      "outputs": [
        {
          "output_type": "display_data",
          "data": {
            "text/plain": [
              "<Figure size 640x480 with 1 Axes>"
            ],
            "image/png": "[encoded data removed]"
          },
          "metadata": {}
        }
      ],
      "source": [
        "# Step 10: Visualize the results (for 2D data)\n",
        "if n_components == 2:\n",
        "    plt.scatter(final_result[:, 0], final_result[:, 1])\n",
        "    plt.xlabel('Principal Component 1')\n",
        "    plt.ylabel('Principal Component 2')\n",
        "    plt.title('PCA Result')\n",
        "    plt.show()\n"
      ]
    },
    {
      "cell_type": "code",
      "execution_count": null,
      "id": "b27f7446",
      "metadata": {
        "id": "b27f7446"
      },
      "outputs": [],
      "source": []
    }
  ],
  "metadata": {
    "kernelspec": {
      "display_name": "Python 3",
      "name": "python3"
    },
    "language_info": {
      "codemirror_mode": {
        "name": "ipython",
        "version": 3
      },
      "file_extension": ".py",
      "mimetype": "text/x-python",
      "name": "python",
      "nbconvert_exporter": "python",
      "pygments_lexer": "ipython3",
      "version": "3.11.5"
    },
    "colab": {
      "provenance": [],
      "gpuType": "T4",
      "include_colab_link": true
    },
    "accelerator": "GPU"
  },
  "nbformat": 4,
  "nbformat_minor": 5
}